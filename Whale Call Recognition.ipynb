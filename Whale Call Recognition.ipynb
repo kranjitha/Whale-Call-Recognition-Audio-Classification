{
 "cells": [
  {
   "cell_type": "markdown",
   "metadata": {},
   "source": [
    "## Importing header files"
   ]
  },
  {
   "cell_type": "code",
   "execution_count": 72,
   "metadata": {},
   "outputs": [
    {
     "name": "stdout",
     "output_type": "stream",
     "text": [
      "Populating the interactive namespace from numpy and matplotlib\n"
     ]
    }
   ],
   "source": [
    "%matplotlib inline\n",
    "%pylab inline\n",
    "import pandas as pd\n",
    "import tensorflow as tf\n",
    "import IPython.display as ipd\n",
    "import matplotlib.pyplot as plt\n",
    "import librosa\n",
    "import glob\n",
    "import librosa.display"
   ]
  },
  {
   "cell_type": "markdown",
   "metadata": {},
   "source": [
    "## Reading the csv file "
   ]
  },
  {
   "cell_type": "code",
   "execution_count": 2,
   "metadata": {},
   "outputs": [],
   "source": [
    "media_df = pd.read_csv('WhaleFM\\csv\\whale_fm_anon_04-03-2015_assets.csv')"
   ]
  },
  {
   "cell_type": "code",
   "execution_count": 3,
   "metadata": {},
   "outputs": [
    {
     "data": {
      "text/html": [
       "<div>\n",
       "<style scoped>\n",
       "    .dataframe tbody tr th:only-of-type {\n",
       "        vertical-align: middle;\n",
       "    }\n",
       "\n",
       "    .dataframe tbody tr th {\n",
       "        vertical-align: top;\n",
       "    }\n",
       "\n",
       "    .dataframe thead th {\n",
       "        text-align: right;\n",
       "    }\n",
       "</style>\n",
       "<table border=\"1\" class=\"dataframe\">\n",
       "  <thead>\n",
       "    <tr style=\"text-align: right;\">\n",
       "      <th></th>\n",
       "      <th>id</th>\n",
       "      <th>name</th>\n",
       "      <th>location</th>\n",
       "      <th>thumbnail_location</th>\n",
       "      <th>classification_count</th>\n",
       "      <th>external_ref</th>\n",
       "      <th>average_score</th>\n",
       "      <th>active</th>\n",
       "      <th>workflow_id</th>\n",
       "      <th>zooniverse_id</th>\n",
       "      <th>...</th>\n",
       "      <th>lng</th>\n",
       "      <th>random_number</th>\n",
       "      <th>whale_id</th>\n",
       "      <th>whale_type</th>\n",
       "      <th>narrowband</th>\n",
       "      <th>spectrogram_12</th>\n",
       "      <th>skip_count</th>\n",
       "      <th>duration_wav</th>\n",
       "      <th>sound_count</th>\n",
       "      <th>sound_list</th>\n",
       "    </tr>\n",
       "  </thead>\n",
       "  <tbody>\n",
       "    <tr>\n",
       "      <td>0</td>\n",
       "      <td>1</td>\n",
       "      <td>gm138b01INFO_104397737-104654208.wav</td>\n",
       "      <td>http://s3.amazonaws.com/whalefm/alpha/audio/gm...</td>\n",
       "      <td>NaN</td>\n",
       "      <td>1143</td>\n",
       "      <td>NaN</td>\n",
       "      <td>0</td>\n",
       "      <td>1</td>\n",
       "      <td>1</td>\n",
       "      <td>AWH1000001</td>\n",
       "      <td>...</td>\n",
       "      <td>13.7929</td>\n",
       "      <td>0.120226</td>\n",
       "      <td>15</td>\n",
       "      <td>pilot whale</td>\n",
       "      <td>2</td>\n",
       "      <td>http://s3.amazonaws.com/whalefm/alpha/spectrog...</td>\n",
       "      <td>16</td>\n",
       "      <td>1.336</td>\n",
       "      <td>3109</td>\n",
       "      <td>19,33,85</td>\n",
       "    </tr>\n",
       "    <tr>\n",
       "      <td>1</td>\n",
       "      <td>2</td>\n",
       "      <td>gm138b01INFO_11783503-11917392.wav</td>\n",
       "      <td>http://s3.amazonaws.com/whalefm/alpha/audio/gm...</td>\n",
       "      <td>NaN</td>\n",
       "      <td>327</td>\n",
       "      <td>NaN</td>\n",
       "      <td>0</td>\n",
       "      <td>1</td>\n",
       "      <td>1</td>\n",
       "      <td>AWH1000002</td>\n",
       "      <td>...</td>\n",
       "      <td>13.7847</td>\n",
       "      <td>0.409283</td>\n",
       "      <td>15</td>\n",
       "      <td>pilot whale</td>\n",
       "      <td>2</td>\n",
       "      <td>http://s3.amazonaws.com/whalefm/alpha/spectrog...</td>\n",
       "      <td>3</td>\n",
       "      <td>0.697</td>\n",
       "      <td>3137</td>\n",
       "      <td>1762,1765,1858</td>\n",
       "    </tr>\n",
       "    <tr>\n",
       "      <td>2</td>\n",
       "      <td>3</td>\n",
       "      <td>gm138b01INFO_1183156-1470951.wav</td>\n",
       "      <td>http://s3.amazonaws.com/whalefm/alpha/audio/gm...</td>\n",
       "      <td>NaN</td>\n",
       "      <td>137</td>\n",
       "      <td>NaN</td>\n",
       "      <td>0</td>\n",
       "      <td>1</td>\n",
       "      <td>1</td>\n",
       "      <td>AWH1000003</td>\n",
       "      <td>...</td>\n",
       "      <td>13.7815</td>\n",
       "      <td>0.558004</td>\n",
       "      <td>15</td>\n",
       "      <td>pilot whale</td>\n",
       "      <td>2</td>\n",
       "      <td>http://s3.amazonaws.com/whalefm/alpha/spectrog...</td>\n",
       "      <td>12</td>\n",
       "      <td>1.499</td>\n",
       "      <td>357</td>\n",
       "      <td>3300,3344,3476</td>\n",
       "    </tr>\n",
       "    <tr>\n",
       "      <td>3</td>\n",
       "      <td>4</td>\n",
       "      <td>gm138b01INFO_156175623-156362321.wav</td>\n",
       "      <td>http://s3.amazonaws.com/whalefm/alpha/audio/gm...</td>\n",
       "      <td>NaN</td>\n",
       "      <td>352</td>\n",
       "      <td>NaN</td>\n",
       "      <td>0</td>\n",
       "      <td>1</td>\n",
       "      <td>1</td>\n",
       "      <td>AWH1000004</td>\n",
       "      <td>...</td>\n",
       "      <td>13.7846</td>\n",
       "      <td>0.321231</td>\n",
       "      <td>15</td>\n",
       "      <td>pilot whale</td>\n",
       "      <td>2</td>\n",
       "      <td>http://s3.amazonaws.com/whalefm/alpha/spectrog...</td>\n",
       "      <td>4</td>\n",
       "      <td>0.972</td>\n",
       "      <td>3542</td>\n",
       "      <td>30,52,59</td>\n",
       "    </tr>\n",
       "    <tr>\n",
       "      <td>4</td>\n",
       "      <td>5</td>\n",
       "      <td>gm138b01INFO_1612800-1694979.wav</td>\n",
       "      <td>http://s3.amazonaws.com/whalefm/alpha/audio/gm...</td>\n",
       "      <td>NaN</td>\n",
       "      <td>18</td>\n",
       "      <td>NaN</td>\n",
       "      <td>0</td>\n",
       "      <td>1</td>\n",
       "      <td>1</td>\n",
       "      <td>AWH1000005</td>\n",
       "      <td>...</td>\n",
       "      <td>13.7815</td>\n",
       "      <td>0.322756</td>\n",
       "      <td>15</td>\n",
       "      <td>pilot whale</td>\n",
       "      <td>2</td>\n",
       "      <td>http://s3.amazonaws.com/whalefm/alpha/spectrog...</td>\n",
       "      <td>4</td>\n",
       "      <td>0.428</td>\n",
       "      <td>740</td>\n",
       "      <td>300,3676,3993</td>\n",
       "    </tr>\n",
       "  </tbody>\n",
       "</table>\n",
       "<p>5 rows × 26 columns</p>\n",
       "</div>"
      ],
      "text/plain": [
       "   id                                   name  \\\n",
       "0   1  gm138b01INFO_104397737-104654208.wav    \n",
       "1   2    gm138b01INFO_11783503-11917392.wav    \n",
       "2   3      gm138b01INFO_1183156-1470951.wav    \n",
       "3   4  gm138b01INFO_156175623-156362321.wav    \n",
       "4   5      gm138b01INFO_1612800-1694979.wav    \n",
       "\n",
       "                                            location  thumbnail_location  \\\n",
       "0  http://s3.amazonaws.com/whalefm/alpha/audio/gm...                 NaN   \n",
       "1  http://s3.amazonaws.com/whalefm/alpha/audio/gm...                 NaN   \n",
       "2  http://s3.amazonaws.com/whalefm/alpha/audio/gm...                 NaN   \n",
       "3  http://s3.amazonaws.com/whalefm/alpha/audio/gm...                 NaN   \n",
       "4  http://s3.amazonaws.com/whalefm/alpha/audio/gm...                 NaN   \n",
       "\n",
       "   classification_count  external_ref  average_score  active  workflow_id  \\\n",
       "0                  1143           NaN              0       1            1   \n",
       "1                   327           NaN              0       1            1   \n",
       "2                   137           NaN              0       1            1   \n",
       "3                   352           NaN              0       1            1   \n",
       "4                    18           NaN              0       1            1   \n",
       "\n",
       "  zooniverse_id  ...      lng random_number  whale_id    whale_type  \\\n",
       "0    AWH1000001  ...  13.7929      0.120226        15  pilot whale    \n",
       "1    AWH1000002  ...  13.7847      0.409283        15  pilot whale    \n",
       "2    AWH1000003  ...  13.7815      0.558004        15  pilot whale    \n",
       "3    AWH1000004  ...  13.7846      0.321231        15  pilot whale    \n",
       "4    AWH1000005  ...  13.7815      0.322756        15  pilot whale    \n",
       "\n",
       "  narrowband                                     spectrogram_12  skip_count  \\\n",
       "0          2  http://s3.amazonaws.com/whalefm/alpha/spectrog...          16   \n",
       "1          2  http://s3.amazonaws.com/whalefm/alpha/spectrog...           3   \n",
       "2          2  http://s3.amazonaws.com/whalefm/alpha/spectrog...          12   \n",
       "3          2  http://s3.amazonaws.com/whalefm/alpha/spectrog...           4   \n",
       "4          2  http://s3.amazonaws.com/whalefm/alpha/spectrog...           4   \n",
       "\n",
       "   duration_wav  sound_count      sound_list  \n",
       "0         1.336         3109        19,33,85  \n",
       "1         0.697         3137  1762,1765,1858  \n",
       "2         1.499          357  3300,3344,3476  \n",
       "3         0.972         3542        30,52,59  \n",
       "4         0.428          740   300,3676,3993  \n",
       "\n",
       "[5 rows x 26 columns]"
      ]
     },
     "execution_count": 3,
     "metadata": {},
     "output_type": "execute_result"
    }
   ],
   "source": [
    "media_df.head(5)"
   ]
  },
  {
   "cell_type": "markdown",
   "metadata": {},
   "source": [
    "## Getting the stats to understand data\n",
    "### Total number if recordings: 15531"
   ]
  },
  {
   "cell_type": "code",
   "execution_count": 41,
   "metadata": {},
   "outputs": [
    {
     "data": {
      "text/html": [
       "<div>\n",
       "<style scoped>\n",
       "    .dataframe tbody tr th:only-of-type {\n",
       "        vertical-align: middle;\n",
       "    }\n",
       "\n",
       "    .dataframe tbody tr th {\n",
       "        vertical-align: top;\n",
       "    }\n",
       "\n",
       "    .dataframe thead th {\n",
       "        text-align: right;\n",
       "    }\n",
       "</style>\n",
       "<table border=\"1\" class=\"dataframe\">\n",
       "  <thead>\n",
       "    <tr style=\"text-align: right;\">\n",
       "      <th></th>\n",
       "      <th>id</th>\n",
       "      <th>thumbnail_location</th>\n",
       "      <th>classification_count</th>\n",
       "      <th>external_ref</th>\n",
       "      <th>average_score</th>\n",
       "      <th>active</th>\n",
       "      <th>workflow_id</th>\n",
       "      <th>spectral_density</th>\n",
       "      <th>duration</th>\n",
       "      <th>lat</th>\n",
       "      <th>lng</th>\n",
       "      <th>random_number</th>\n",
       "      <th>whale_id</th>\n",
       "      <th>narrowband</th>\n",
       "      <th>skip_count</th>\n",
       "      <th>duration_wav</th>\n",
       "      <th>sound_count</th>\n",
       "    </tr>\n",
       "  </thead>\n",
       "  <tbody>\n",
       "    <tr>\n",
       "      <td>count</td>\n",
       "      <td>15531.000000</td>\n",
       "      <td>0.0</td>\n",
       "      <td>15531.000000</td>\n",
       "      <td>0.0</td>\n",
       "      <td>15531.0</td>\n",
       "      <td>15531.0</td>\n",
       "      <td>15531.0</td>\n",
       "      <td>15531.000000</td>\n",
       "      <td>15531.000000</td>\n",
       "      <td>15531.000000</td>\n",
       "      <td>15531.000000</td>\n",
       "      <td>15531.000000</td>\n",
       "      <td>15531.000000</td>\n",
       "      <td>15531.00000</td>\n",
       "      <td>15531.000000</td>\n",
       "      <td>15531.000000</td>\n",
       "      <td>15531.000000</td>\n",
       "    </tr>\n",
       "    <tr>\n",
       "      <td>mean</td>\n",
       "      <td>7782.101861</td>\n",
       "      <td>NaN</td>\n",
       "      <td>35.824673</td>\n",
       "      <td>NaN</td>\n",
       "      <td>0.0</td>\n",
       "      <td>1.0</td>\n",
       "      <td>1.0</td>\n",
       "      <td>4.774382</td>\n",
       "      <td>0.941586</td>\n",
       "      <td>58.150916</td>\n",
       "      <td>-8.042049</td>\n",
       "      <td>0.501410</td>\n",
       "      <td>14.019252</td>\n",
       "      <td>1.04990</td>\n",
       "      <td>8.424828</td>\n",
       "      <td>1.294287</td>\n",
       "      <td>3250.325929</td>\n",
       "    </tr>\n",
       "    <tr>\n",
       "      <td>std</td>\n",
       "      <td>4487.815218</td>\n",
       "      <td>NaN</td>\n",
       "      <td>51.081333</td>\n",
       "      <td>NaN</td>\n",
       "      <td>0.0</td>\n",
       "      <td>0.0</td>\n",
       "      <td>0.0</td>\n",
       "      <td>4.016661</td>\n",
       "      <td>0.587930</td>\n",
       "      <td>17.636353</td>\n",
       "      <td>37.508379</td>\n",
       "      <td>0.288886</td>\n",
       "      <td>7.604220</td>\n",
       "      <td>0.80574</td>\n",
       "      <td>8.209786</td>\n",
       "      <td>0.720738</td>\n",
       "      <td>1982.764057</td>\n",
       "    </tr>\n",
       "    <tr>\n",
       "      <td>min</td>\n",
       "      <td>1.000000</td>\n",
       "      <td>NaN</td>\n",
       "      <td>2.000000</td>\n",
       "      <td>NaN</td>\n",
       "      <td>0.0</td>\n",
       "      <td>1.0</td>\n",
       "      <td>1.0</td>\n",
       "      <td>2.063000</td>\n",
       "      <td>0.000000</td>\n",
       "      <td>24.308700</td>\n",
       "      <td>-77.628100</td>\n",
       "      <td>0.000040</td>\n",
       "      <td>1.000000</td>\n",
       "      <td>0.00000</td>\n",
       "      <td>0.000000</td>\n",
       "      <td>0.018000</td>\n",
       "      <td>0.000000</td>\n",
       "    </tr>\n",
       "    <tr>\n",
       "      <td>25%</td>\n",
       "      <td>3902.500000</td>\n",
       "      <td>NaN</td>\n",
       "      <td>17.000000</td>\n",
       "      <td>NaN</td>\n",
       "      <td>0.0</td>\n",
       "      <td>1.0</td>\n",
       "      <td>1.0</td>\n",
       "      <td>2.625000</td>\n",
       "      <td>0.511000</td>\n",
       "      <td>63.413675</td>\n",
       "      <td>-20.352404</td>\n",
       "      <td>0.254365</td>\n",
       "      <td>8.000000</td>\n",
       "      <td>0.00000</td>\n",
       "      <td>3.000000</td>\n",
       "      <td>0.741000</td>\n",
       "      <td>1970.000000</td>\n",
       "    </tr>\n",
       "    <tr>\n",
       "      <td>50%</td>\n",
       "      <td>7785.000000</td>\n",
       "      <td>NaN</td>\n",
       "      <td>22.000000</td>\n",
       "      <td>NaN</td>\n",
       "      <td>0.0</td>\n",
       "      <td>1.0</td>\n",
       "      <td>1.0</td>\n",
       "      <td>3.375000</td>\n",
       "      <td>0.850000</td>\n",
       "      <td>67.484500</td>\n",
       "      <td>13.746000</td>\n",
       "      <td>0.500551</td>\n",
       "      <td>17.000000</td>\n",
       "      <td>1.00000</td>\n",
       "      <td>5.000000</td>\n",
       "      <td>1.190000</td>\n",
       "      <td>2868.000000</td>\n",
       "    </tr>\n",
       "    <tr>\n",
       "      <td>75%</td>\n",
       "      <td>11667.500000</td>\n",
       "      <td>NaN</td>\n",
       "      <td>38.000000</td>\n",
       "      <td>NaN</td>\n",
       "      <td>0.0</td>\n",
       "      <td>1.0</td>\n",
       "      <td>1.0</td>\n",
       "      <td>5.250000</td>\n",
       "      <td>1.300000</td>\n",
       "      <td>68.198850</td>\n",
       "      <td>15.595900</td>\n",
       "      <td>0.752043</td>\n",
       "      <td>20.000000</td>\n",
       "      <td>2.00000</td>\n",
       "      <td>11.000000</td>\n",
       "      <td>1.850000</td>\n",
       "      <td>4070.000000</td>\n",
       "    </tr>\n",
       "    <tr>\n",
       "      <td>max</td>\n",
       "      <td>15550.000000</td>\n",
       "      <td>NaN</td>\n",
       "      <td>1232.000000</td>\n",
       "      <td>NaN</td>\n",
       "      <td>0.0</td>\n",
       "      <td>1.0</td>\n",
       "      <td>1.0</td>\n",
       "      <td>29.000000</td>\n",
       "      <td>8.553000</td>\n",
       "      <td>68.442864</td>\n",
       "      <td>16.561155</td>\n",
       "      <td>0.999978</td>\n",
       "      <td>26.000000</td>\n",
       "      <td>2.00000</td>\n",
       "      <td>56.000000</td>\n",
       "      <td>11.962000</td>\n",
       "      <td>8018.000000</td>\n",
       "    </tr>\n",
       "  </tbody>\n",
       "</table>\n",
       "</div>"
      ],
      "text/plain": [
       "                 id  thumbnail_location  classification_count  external_ref  \\\n",
       "count  15531.000000                 0.0          15531.000000           0.0   \n",
       "mean    7782.101861                 NaN             35.824673           NaN   \n",
       "std     4487.815218                 NaN             51.081333           NaN   \n",
       "min        1.000000                 NaN              2.000000           NaN   \n",
       "25%     3902.500000                 NaN             17.000000           NaN   \n",
       "50%     7785.000000                 NaN             22.000000           NaN   \n",
       "75%    11667.500000                 NaN             38.000000           NaN   \n",
       "max    15550.000000                 NaN           1232.000000           NaN   \n",
       "\n",
       "       average_score   active  workflow_id  spectral_density      duration  \\\n",
       "count        15531.0  15531.0      15531.0      15531.000000  15531.000000   \n",
       "mean             0.0      1.0          1.0          4.774382      0.941586   \n",
       "std              0.0      0.0          0.0          4.016661      0.587930   \n",
       "min              0.0      1.0          1.0          2.063000      0.000000   \n",
       "25%              0.0      1.0          1.0          2.625000      0.511000   \n",
       "50%              0.0      1.0          1.0          3.375000      0.850000   \n",
       "75%              0.0      1.0          1.0          5.250000      1.300000   \n",
       "max              0.0      1.0          1.0         29.000000      8.553000   \n",
       "\n",
       "                lat           lng  random_number      whale_id   narrowband  \\\n",
       "count  15531.000000  15531.000000   15531.000000  15531.000000  15531.00000   \n",
       "mean      58.150916     -8.042049       0.501410     14.019252      1.04990   \n",
       "std       17.636353     37.508379       0.288886      7.604220      0.80574   \n",
       "min       24.308700    -77.628100       0.000040      1.000000      0.00000   \n",
       "25%       63.413675    -20.352404       0.254365      8.000000      0.00000   \n",
       "50%       67.484500     13.746000       0.500551     17.000000      1.00000   \n",
       "75%       68.198850     15.595900       0.752043     20.000000      2.00000   \n",
       "max       68.442864     16.561155       0.999978     26.000000      2.00000   \n",
       "\n",
       "         skip_count  duration_wav   sound_count  \n",
       "count  15531.000000  15531.000000  15531.000000  \n",
       "mean       8.424828      1.294287   3250.325929  \n",
       "std        8.209786      0.720738   1982.764057  \n",
       "min        0.000000      0.018000      0.000000  \n",
       "25%        3.000000      0.741000   1970.000000  \n",
       "50%        5.000000      1.190000   2868.000000  \n",
       "75%       11.000000      1.850000   4070.000000  \n",
       "max       56.000000     11.962000   8018.000000  "
      ]
     },
     "execution_count": 41,
     "metadata": {},
     "output_type": "execute_result"
    }
   ],
   "source": [
    "media_df.describe()"
   ]
  },
  {
   "cell_type": "code",
   "execution_count": 4,
   "metadata": {},
   "outputs": [
    {
     "data": {
      "text/plain": [
       "Index(['id', 'name', 'location', 'thumbnail_location', 'classification_count',\n",
       "       'external_ref', 'average_score', 'active', 'workflow_id',\n",
       "       'zooniverse_id', 'created_at', 'updated_at', 'spectral_density',\n",
       "       'duration', 'spectrogram', 'lat', 'lng', 'random_number', 'whale_id',\n",
       "       'whale_type', 'narrowband', 'spectrogram_12', 'skip_count',\n",
       "       'duration_wav', 'sound_count', 'sound_list'],\n",
       "      dtype='object')"
      ]
     },
     "execution_count": 4,
     "metadata": {},
     "output_type": "execute_result"
    }
   ],
   "source": [
    "media_df.columns"
   ]
  },
  {
   "cell_type": "code",
   "execution_count": 5,
   "metadata": {},
   "outputs": [
    {
     "data": {
      "text/plain": [
       "(15531, 26)"
      ]
     },
     "execution_count": 5,
     "metadata": {},
     "output_type": "execute_result"
    }
   ],
   "source": [
    "media_df.shape"
   ]
  },
  {
   "cell_type": "code",
   "execution_count": 6,
   "metadata": {},
   "outputs": [
    {
     "data": {
      "text/plain": [
       "array([15, 16, 17, 18, 19,  1,  2, 22,  3,  4, 21, 20,  7,  6,  5,  8,  9,\n",
       "       10, 11, 12, 13, 14, 23, 24, 25, 26], dtype=int64)"
      ]
     },
     "execution_count": 6,
     "metadata": {},
     "output_type": "execute_result"
    }
   ],
   "source": [
    "media_df['whale_id'].unique()"
   ]
  },
  {
   "cell_type": "code",
   "execution_count": 7,
   "metadata": {},
   "outputs": [
    {
     "data": {
      "text/plain": [
       "'http://s3.amazonaws.com/whalefm/alpha/audio/gm138b01INFO_11783503-11917392_filt.mp3'"
      ]
     },
     "execution_count": 7,
     "metadata": {},
     "output_type": "execute_result"
    }
   ],
   "source": [
    "media_df['location'][1]"
   ]
  },
  {
   "cell_type": "code",
   "execution_count": 44,
   "metadata": {},
   "outputs": [
    {
     "data": {
      "text/plain": [
       "14645"
      ]
     },
     "execution_count": 44,
     "metadata": {},
     "output_type": "execute_result"
    }
   ],
   "source": [
    "sum(media_df.groupby('whale_id').count()['id'].sort_values(inplace = False ,ascending = False)[:17].values)"
   ]
  },
  {
   "cell_type": "code",
   "execution_count": 8,
   "metadata": {},
   "outputs": [
    {
     "data": {
      "text/plain": [
       "[14,\n",
       " 18,\n",
       " 62,\n",
       " 77,\n",
       " 97,\n",
       " 116,\n",
       " 146,\n",
       " 157,\n",
       " 199,\n",
       " 200,\n",
       " 216,\n",
       " 288,\n",
       " 303,\n",
       " 329,\n",
       " 358,\n",
       " 449,\n",
       " 561,\n",
       " 600,\n",
       " 611,\n",
       " 823,\n",
       " 824,\n",
       " 989,\n",
       " 1020,\n",
       " 1148,\n",
       " 1536,\n",
       " 4390]"
      ]
     },
     "execution_count": 8,
     "metadata": {},
     "output_type": "execute_result"
    }
   ],
   "source": [
    "sorted(media_df.groupby('whale_id').count()['id'].values)"
   ]
  },
  {
   "cell_type": "markdown",
   "metadata": {},
   "source": [
    "## Checking what pods have sufficient number of samples. In our case threshold has been set to 200"
   ]
  },
  {
   "cell_type": "code",
   "execution_count": 9,
   "metadata": {},
   "outputs": [
    {
     "name": "stderr",
     "output_type": "stream",
     "text": [
      "C:\\Users\\ranji\\Anaconda3\\envs\\tensorenviron\\lib\\site-packages\\ipykernel_launcher.py:1: FutureWarning: `Series.plot()` should not be called with positional arguments, only keyword arguments. The order of positional arguments will change in the future. Use `Series.plot(kind='bar')` instead of `Series.plot('bar',)`.\n",
      "  \"\"\"Entry point for launching an IPython kernel.\n"
     ]
    },
    {
     "data": {
      "text/plain": [
       "<matplotlib.axes._subplots.AxesSubplot at 0x21217693b88>"
      ]
     },
     "execution_count": 9,
     "metadata": {},
     "output_type": "execute_result"
    },
    {
     "data": {
      "image/png": "[encoded data removed]",
      "text/plain": [
       "<Figure size 432x288 with 1 Axes>"
      ]
     },
     "metadata": {
      "needs_background": "light"
     },
     "output_type": "display_data"
    }
   ],
   "source": [
    "(media_df.groupby('whale_id').count()['id']).plot('bar')\n"
   ]
  },
  {
   "cell_type": "markdown",
   "metadata": {},
   "source": [
    "## 17 pods with samples more than 200"
   ]
  },
  {
   "cell_type": "code",
   "execution_count": 88,
   "metadata": {},
   "outputs": [
    {
     "data": {
      "text/plain": [
       "whale_id\n",
       "20    4390\n",
       "1     1536\n",
       "3     1148\n",
       "21    1020\n",
       "22     989\n",
       "17     824\n",
       "8      823\n",
       "12     611\n",
       "9      600\n",
       "19     561\n",
       "15     449\n",
       "13     358\n",
       "4      329\n",
       "2      303\n",
       "10     288\n",
       "6      216\n",
       "24     200\n",
       "Name: id, dtype: int64"
      ]
     },
     "execution_count": 88,
     "metadata": {},
     "output_type": "execute_result"
    }
   ],
   "source": [
    "media_df.groupby('whale_id').count()['id'].sort_values(inplace = False ,ascending = False)[:17]"
   ]
  },
  {
   "cell_type": "code",
   "execution_count": 21,
   "metadata": {},
   "outputs": [
    {
     "data": {
      "text/plain": [
       "'http://s3.amazonaws.com/whalefm/alpha/audio/gm138b01INFO_104397737-104654208_filt.mp3'"
      ]
     },
     "execution_count": 21,
     "metadata": {},
     "output_type": "execute_result"
    }
   ],
   "source": [
    "media_df['location'][0]"
   ]
  },
  {
   "cell_type": "code",
   "execution_count": 81,
   "metadata": {},
   "outputs": [
    {
     "data": {
      "text/plain": [
       "'killer whale '"
      ]
     },
     "execution_count": 81,
     "metadata": {},
     "output_type": "execute_result"
    }
   ],
   "source": [
    "media_df['whale_type'][15526]"
   ]
  },
  {
   "cell_type": "code",
   "execution_count": 83,
   "metadata": {},
   "outputs": [
    {
     "data": {
      "text/plain": [
       "'http://s3.amazonaws.com/whalefm/alpha/audio/oo06_317s_01_60268705_filt.mp3'"
      ]
     },
     "execution_count": 83,
     "metadata": {},
     "output_type": "execute_result"
    }
   ],
   "source": [
    "media_df['location'][15526]"
   ]
  },
  {
   "cell_type": "markdown",
   "metadata": {},
   "source": [
    "##  Sample Whale call - Pilot whale"
   ]
  },
  {
   "cell_type": "code",
   "execution_count": 47,
   "metadata": {},
   "outputs": [
    {
     "data": {
      "text/html": [
       "\n",
       "                <audio  controls=\"controls\" >\n",
       "                    <source src=\"data:audio/mpeg;base64,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\" type=\"audio/mpeg\" />\n",
       "                    Your browser does not support the audio element.\n",
       "                </audio>\n",
       "              "
      ],
      "text/plain": [
       "<IPython.lib.display.Audio object>"
      ]
     },
     "execution_count": 47,
     "metadata": {},
     "output_type": "execute_result"
    }
   ],
   "source": [
    "ipd.Audio('http://s3.amazonaws.com/whalefm/alpha/audio/gm138b01INFO_104397737-104654208_filt.mp3')"
   ]
  },
  {
   "cell_type": "markdown",
   "metadata": {},
   "source": [
    "## Sample whale call - Killer Whale"
   ]
  },
  {
   "cell_type": "code",
   "execution_count": 87,
   "metadata": {},
   "outputs": [
    {
     "data": {
      "text/html": [
       "\n",
       "                <audio  controls=\"controls\" >\n",
       "                    <source src=\"data:audio/mpeg;base64,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\" type=\"audio/mpeg\" />\n",
       "                    Your browser does not support the audio element.\n",
       "                </audio>\n",
       "              "
      ],
      "text/plain": [
       "<IPython.lib.display.Audio object>"
      ]
     },
     "execution_count": 87,
     "metadata": {},
     "output_type": "execute_result"
    }
   ],
   "source": [
    "ipd.Audio('http://s3.amazonaws.com/whalefm/alpha/audio/oo06_317s_01_60268705_filt.mp3')"
   ]
  },
  {
   "cell_type": "code",
   "execution_count": 59,
   "metadata": {},
   "outputs": [],
   "source": [
    "audio, sampling_rate = librosa.core.load('data/gm138b01INFO_104397737-104654208_filt.mp3')"
   ]
  },
  {
   "cell_type": "markdown",
   "metadata": {},
   "source": [
    "### audio is a numpy array returned by librosa"
   ]
  },
  {
   "cell_type": "code",
   "execution_count": 60,
   "metadata": {},
   "outputs": [
    {
     "data": {
      "text/plain": [
       "array([-3.4317138e-06, -9.1469592e-05,  3.9762886e-05, ...,\n",
       "       -7.0870685e-04, -9.4601111e-03,  0.0000000e+00], dtype=float32)"
      ]
     },
     "execution_count": 60,
     "metadata": {},
     "output_type": "execute_result"
    }
   ],
   "source": [
    "audio"
   ]
  },
  {
   "cell_type": "code",
   "execution_count": 61,
   "metadata": {
    "scrolled": true
   },
   "outputs": [
    {
     "data": {
      "text/plain": [
       "22050"
      ]
     },
     "execution_count": 61,
     "metadata": {},
     "output_type": "execute_result"
    }
   ],
   "source": [
    "sampling_rate"
   ]
  },
  {
   "cell_type": "markdown",
   "metadata": {},
   "source": [
    "## Raw Wave form of a Pilot Whale wave call"
   ]
  },
  {
   "cell_type": "code",
   "execution_count": 73,
   "metadata": {
    "scrolled": true
   },
   "outputs": [
    {
     "data": {
      "text/plain": [
       "<matplotlib.collections.PolyCollection at 0x212197dfb48>"
      ]
     },
     "execution_count": 73,
     "metadata": {},
     "output_type": "execute_result"
    },
    {
     "data": {
      "image/png": "[encoded data removed]",
      "text/plain": [
       "<Figure size 864x288 with 1 Axes>"
      ]
     },
     "metadata": {
      "needs_background": "light"
     },
     "output_type": "display_data"
    }
   ],
   "source": [
    "plt.figure(figsize=(12, 4))\n",
    "librosa.display.waveplot(audio, sr=sampling_rate)"
   ]
  },
  {
   "cell_type": "markdown",
   "metadata": {},
   "source": [
    "## Raw Wave form of a Killer Whale wave call\n"
   ]
  },
  {
   "cell_type": "code",
   "execution_count": 86,
   "metadata": {},
   "outputs": [
    {
     "name": "stdout",
     "output_type": "stream",
     "text": [
      "22050\n"
     ]
    },
    {
     "data": {
      "text/plain": [
       "<matplotlib.collections.PolyCollection at 0x2121aca1748>"
      ]
     },
     "execution_count": 86,
     "metadata": {},
     "output_type": "execute_result"
    },
    {
     "data": {
      "image/png": "[encoded data removed]",
      "text/plain": [
       "<Figure size 864x288 with 1 Axes>"
      ]
     },
     "metadata": {
      "needs_background": "light"
     },
     "output_type": "display_data"
    }
   ],
   "source": [
    "audio, sampling_rate = librosa.core.load('data/killer.mp3')\n",
    "print(sampling_rate)\n",
    "plt.figure(figsize=(12, 4))\n",
    "librosa.display.waveplot(audio, sr=sampling_rate)\n"
   ]
  },
  {
   "cell_type": "code",
   "execution_count": null,
   "metadata": {},
   "outputs": [],
   "source": []
  }
 ],
 "metadata": {
  "kernelspec": {
   "display_name": "tensorenviron",
   "language": "python",
   "name": "tensorenviron"
  },
  "language_info": {
   "codemirror_mode": {
    "name": "ipython",
    "version": 3
   },
   "file_extension": ".py",
   "mimetype": "text/x-python",
   "name": "python",
   "nbconvert_exporter": "python",
   "pygments_lexer": "ipython3",
   "version": "3.7.4"
  }
 },
 "nbformat": 4,
 "nbformat_minor": 2
}
